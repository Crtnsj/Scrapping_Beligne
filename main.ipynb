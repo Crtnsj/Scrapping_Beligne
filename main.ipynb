{
 "cells": [
  {
   "cell_type": "code",
   "execution_count": 1,
   "id": "142093f5",
   "metadata": {},
   "outputs": [],
   "source": [
    "import polars as pl"
   ]
  },
  {
   "cell_type": "code",
   "execution_count": 2,
   "id": "6062fe24",
   "metadata": {},
   "outputs": [
    {
     "data": {
      "text/html": [
       "<div><style>\n",
       ".dataframe > thead > tr,\n",
       ".dataframe > tbody > tr {\n",
       "  text-align: right;\n",
       "  white-space: pre-wrap;\n",
       "}\n",
       "</style>\n",
       "<small>shape: (655, 11)</small><table border=\"1\" class=\"dataframe\"><thead><tr><th>id_category</th><th>id_parent</th><th>id_shop_default</th><th>level_depth</th><th>nleft</th><th>nright</th><th>active</th><th>date_add</th><th>date_upd</th><th>position</th><th>is_root_category</th></tr><tr><td>i64</td><td>i64</td><td>i64</td><td>i64</td><td>i64</td><td>i64</td><td>i64</td><td>str</td><td>str</td><td>i64</td><td>i64</td></tr></thead><tbody><tr><td>1</td><td>0</td><td>1</td><td>0</td><td>1</td><td>1240</td><td>1</td><td>&quot;2017-08-10 17:53:09&quot;</td><td>&quot;2017-08-10 17:53:09&quot;</td><td>0</td><td>0</td></tr><tr><td>2</td><td>1</td><td>1</td><td>1</td><td>1124</td><td>1239</td><td>1</td><td>&quot;2017-08-10 17:53:10&quot;</td><td>&quot;2024-10-18 15:15:21&quot;</td><td>23</td><td>1</td></tr><tr><td>22</td><td>1</td><td>2</td><td>1</td><td>412</td><td>485</td><td>1</td><td>&quot;2018-02-13 10:30:30&quot;</td><td>&quot;2024-10-18 15:15:19&quot;</td><td>2</td><td>1</td></tr><tr><td>23</td><td>22</td><td>2</td><td>2</td><td>413</td><td>430</td><td>1</td><td>&quot;2018-02-13 10:42:12&quot;</td><td>&quot;2023-12-13 10:25:27&quot;</td><td>2</td><td>0</td></tr><tr><td>24</td><td>23</td><td>2</td><td>3</td><td>414</td><td>415</td><td>1</td><td>&quot;2018-02-13 10:42:29&quot;</td><td>&quot;2021-09-23 12:21:33&quot;</td><td>0</td><td>0</td></tr><tr><td>&hellip;</td><td>&hellip;</td><td>&hellip;</td><td>&hellip;</td><td>&hellip;</td><td>&hellip;</td><td>&hellip;</td><td>&hellip;</td><td>&hellip;</td><td>&hellip;</td><td>&hellip;</td></tr><tr><td>1175</td><td>1166</td><td>29</td><td>3</td><td>934</td><td>935</td><td>1</td><td>&quot;2024-10-21 17:12:08&quot;</td><td>&quot;2024-10-21 17:12:08&quot;</td><td>1</td><td>0</td></tr><tr><td>1176</td><td>1166</td><td>29</td><td>3</td><td>936</td><td>937</td><td>1</td><td>&quot;2024-10-21 17:12:35&quot;</td><td>&quot;2024-10-21 17:12:35&quot;</td><td>1</td><td>0</td></tr><tr><td>1177</td><td>1166</td><td>29</td><td>3</td><td>916</td><td>917</td><td>1</td><td>&quot;2024-10-21 17:13:12&quot;</td><td>&quot;2024-10-21 17:13:12&quot;</td><td>1</td><td>0</td></tr><tr><td>1178</td><td>1166</td><td>29</td><td>3</td><td>918</td><td>919</td><td>1</td><td>&quot;2024-10-21 17:13:32&quot;</td><td>&quot;2024-10-21 17:13:32&quot;</td><td>1</td><td>0</td></tr><tr><td>1179</td><td>2</td><td>1</td><td>2</td><td>1237</td><td>1238</td><td>1</td><td>&quot;2024-12-23 14:18:53&quot;</td><td>&quot;2024-12-23 14:22:07&quot;</td><td>2</td><td>0</td></tr></tbody></table></div>"
      ],
      "text/plain": [
       "shape: (655, 11)\n",
       "┌───────────┬───────────┬───────────┬───────────┬───┬───────────┬───────────┬──────────┬───────────┐\n",
       "│ id_catego ┆ id_parent ┆ id_shop_d ┆ level_dep ┆ … ┆ date_add  ┆ date_upd  ┆ position ┆ is_root_c │\n",
       "│ ry        ┆ ---       ┆ efault    ┆ th        ┆   ┆ ---       ┆ ---       ┆ ---      ┆ ategory   │\n",
       "│ ---       ┆ i64       ┆ ---       ┆ ---       ┆   ┆ str       ┆ str       ┆ i64      ┆ ---       │\n",
       "│ i64       ┆           ┆ i64       ┆ i64       ┆   ┆           ┆           ┆          ┆ i64       │\n",
       "╞═══════════╪═══════════╪═══════════╪═══════════╪═══╪═══════════╪═══════════╪══════════╪═══════════╡\n",
       "│ 1         ┆ 0         ┆ 1         ┆ 0         ┆ … ┆ 2017-08-1 ┆ 2017-08-1 ┆ 0        ┆ 0         │\n",
       "│           ┆           ┆           ┆           ┆   ┆ 0         ┆ 0         ┆          ┆           │\n",
       "│           ┆           ┆           ┆           ┆   ┆ 17:53:09  ┆ 17:53:09  ┆          ┆           │\n",
       "│ 2         ┆ 1         ┆ 1         ┆ 1         ┆ … ┆ 2017-08-1 ┆ 2024-10-1 ┆ 23       ┆ 1         │\n",
       "│           ┆           ┆           ┆           ┆   ┆ 0         ┆ 8         ┆          ┆           │\n",
       "│           ┆           ┆           ┆           ┆   ┆ 17:53:10  ┆ 15:15:21  ┆          ┆           │\n",
       "│ 22        ┆ 1         ┆ 2         ┆ 1         ┆ … ┆ 2018-02-1 ┆ 2024-10-1 ┆ 2        ┆ 1         │\n",
       "│           ┆           ┆           ┆           ┆   ┆ 3         ┆ 8         ┆          ┆           │\n",
       "│           ┆           ┆           ┆           ┆   ┆ 10:30:30  ┆ 15:15:19  ┆          ┆           │\n",
       "│ 23        ┆ 22        ┆ 2         ┆ 2         ┆ … ┆ 2018-02-1 ┆ 2023-12-1 ┆ 2        ┆ 0         │\n",
       "│           ┆           ┆           ┆           ┆   ┆ 3         ┆ 3         ┆          ┆           │\n",
       "│           ┆           ┆           ┆           ┆   ┆ 10:42:12  ┆ 10:25:27  ┆          ┆           │\n",
       "│ 24        ┆ 23        ┆ 2         ┆ 3         ┆ … ┆ 2018-02-1 ┆ 2021-09-2 ┆ 0        ┆ 0         │\n",
       "│           ┆           ┆           ┆           ┆   ┆ 3         ┆ 3         ┆          ┆           │\n",
       "│           ┆           ┆           ┆           ┆   ┆ 10:42:29  ┆ 12:21:33  ┆          ┆           │\n",
       "│ …         ┆ …         ┆ …         ┆ …         ┆ … ┆ …         ┆ …         ┆ …        ┆ …         │\n",
       "│ 1175      ┆ 1166      ┆ 29        ┆ 3         ┆ … ┆ 2024-10-2 ┆ 2024-10-2 ┆ 1        ┆ 0         │\n",
       "│           ┆           ┆           ┆           ┆   ┆ 1         ┆ 1         ┆          ┆           │\n",
       "│           ┆           ┆           ┆           ┆   ┆ 17:12:08  ┆ 17:12:08  ┆          ┆           │\n",
       "│ 1176      ┆ 1166      ┆ 29        ┆ 3         ┆ … ┆ 2024-10-2 ┆ 2024-10-2 ┆ 1        ┆ 0         │\n",
       "│           ┆           ┆           ┆           ┆   ┆ 1         ┆ 1         ┆          ┆           │\n",
       "│           ┆           ┆           ┆           ┆   ┆ 17:12:35  ┆ 17:12:35  ┆          ┆           │\n",
       "│ 1177      ┆ 1166      ┆ 29        ┆ 3         ┆ … ┆ 2024-10-2 ┆ 2024-10-2 ┆ 1        ┆ 0         │\n",
       "│           ┆           ┆           ┆           ┆   ┆ 1         ┆ 1         ┆          ┆           │\n",
       "│           ┆           ┆           ┆           ┆   ┆ 17:13:12  ┆ 17:13:12  ┆          ┆           │\n",
       "│ 1178      ┆ 1166      ┆ 29        ┆ 3         ┆ … ┆ 2024-10-2 ┆ 2024-10-2 ┆ 1        ┆ 0         │\n",
       "│           ┆           ┆           ┆           ┆   ┆ 1         ┆ 1         ┆          ┆           │\n",
       "│           ┆           ┆           ┆           ┆   ┆ 17:13:32  ┆ 17:13:32  ┆          ┆           │\n",
       "│ 1179      ┆ 2         ┆ 1         ┆ 2         ┆ … ┆ 2024-12-2 ┆ 2024-12-2 ┆ 2        ┆ 0         │\n",
       "│           ┆           ┆           ┆           ┆   ┆ 3         ┆ 3         ┆          ┆           │\n",
       "│           ┆           ┆           ┆           ┆   ┆ 14:18:53  ┆ 14:22:07  ┆          ┆           │\n",
       "└───────────┴───────────┴───────────┴───────────┴───┴───────────┴───────────┴──────────┴───────────┘"
      ]
     },
     "execution_count": 2,
     "metadata": {},
     "output_type": "execute_result"
    }
   ],
   "source": [
    "ps_category = pl.read_csv(\"data/ps_category.csv\")\n",
    "ps_category"
   ]
  },
  {
   "cell_type": "code",
   "execution_count": 3,
   "id": "a6b8338c",
   "metadata": {},
   "outputs": [
    {
     "data": {
      "text/html": [
       "<div><style>\n",
       ".dataframe > thead > tr,\n",
       ".dataframe > tbody > tr {\n",
       "  text-align: right;\n",
       "  white-space: pre-wrap;\n",
       "}\n",
       "</style>\n",
       "<small>shape: (26_085, 9)</small><table border=\"1\" class=\"dataframe\"><thead><tr><th>id_category</th><th>id_shop</th><th>id_lang</th><th>name</th><th>description</th><th>link_rewrite</th><th>meta_title</th><th>meta_keywords</th><th>meta_description</th></tr><tr><td>i64</td><td>i64</td><td>i64</td><td>str</td><td>str</td><td>str</td><td>str</td><td>str</td><td>str</td></tr></thead><tbody><tr><td>1</td><td>1</td><td>1</td><td>&quot;Racine&quot;</td><td>null</td><td>&quot;racine&quot;</td><td>null</td><td>null</td><td>null</td></tr><tr><td>1</td><td>1</td><td>5</td><td>&quot;Raíz&quot;</td><td>null</td><td>&quot;racine&quot;</td><td>null</td><td>null</td><td>null</td></tr><tr><td>1</td><td>1</td><td>7</td><td>&quot;Raíz&quot;</td><td>null</td><td>&quot;racine&quot;</td><td>null</td><td>null</td><td>null</td></tr><tr><td>1</td><td>1</td><td>8</td><td>&quot;Stammverzeichnis&quot;</td><td>null</td><td>&quot;racine&quot;</td><td>null</td><td>null</td><td>null</td></tr><tr><td>1</td><td>2</td><td>1</td><td>&quot;Racine&quot;</td><td>null</td><td>&quot;racine&quot;</td><td>null</td><td>null</td><td>null</td></tr><tr><td>&hellip;</td><td>&hellip;</td><td>&hellip;</td><td>&hellip;</td><td>&hellip;</td><td>&hellip;</td><td>&hellip;</td><td>&hellip;</td><td>&hellip;</td></tr><tr><td>1179</td><td>26</td><td>1</td><td>&quot;Mobilier Camping&quot;</td><td>null</td><td>&quot;mobilier-camping&quot;</td><td>null</td><td>null</td><td>null</td></tr><tr><td>1179</td><td>27</td><td>1</td><td>&quot;Mobilier Camping&quot;</td><td>null</td><td>&quot;mobilier-camping&quot;</td><td>null</td><td>null</td><td>null</td></tr><tr><td>1179</td><td>28</td><td>1</td><td>&quot;Mobilier Camping&quot;</td><td>null</td><td>&quot;mobilier-camping&quot;</td><td>null</td><td>null</td><td>null</td></tr><tr><td>1179</td><td>29</td><td>1</td><td>&quot;Mobilier Camping&quot;</td><td>null</td><td>&quot;mobilier-camping&quot;</td><td>null</td><td>null</td><td>null</td></tr><tr><td>1179</td><td>30</td><td>1</td><td>&quot;Mobilier Camping&quot;</td><td>null</td><td>&quot;mobilier-camping&quot;</td><td>null</td><td>null</td><td>null</td></tr></tbody></table></div>"
      ],
      "text/plain": [
       "shape: (26_085, 9)\n",
       "┌────────────┬─────────┬─────────┬────────────┬───┬────────────┬───────────┬───────────┬───────────┐\n",
       "│ id_categor ┆ id_shop ┆ id_lang ┆ name       ┆ … ┆ link_rewri ┆ meta_titl ┆ meta_keyw ┆ meta_desc │\n",
       "│ y          ┆ ---     ┆ ---     ┆ ---        ┆   ┆ te         ┆ e         ┆ ords      ┆ ription   │\n",
       "│ ---        ┆ i64     ┆ i64     ┆ str        ┆   ┆ ---        ┆ ---       ┆ ---       ┆ ---       │\n",
       "│ i64        ┆         ┆         ┆            ┆   ┆ str        ┆ str       ┆ str       ┆ str       │\n",
       "╞════════════╪═════════╪═════════╪════════════╪═══╪════════════╪═══════════╪═══════════╪═══════════╡\n",
       "│ 1          ┆ 1       ┆ 1       ┆ Racine     ┆ … ┆ racine     ┆ null      ┆ null      ┆ null      │\n",
       "│ 1          ┆ 1       ┆ 5       ┆ Raíz       ┆ … ┆ racine     ┆ null      ┆ null      ┆ null      │\n",
       "│ 1          ┆ 1       ┆ 7       ┆ Raíz       ┆ … ┆ racine     ┆ null      ┆ null      ┆ null      │\n",
       "│ 1          ┆ 1       ┆ 8       ┆ Stammverze ┆ … ┆ racine     ┆ null      ┆ null      ┆ null      │\n",
       "│            ┆         ┆         ┆ ichnis     ┆   ┆            ┆           ┆           ┆           │\n",
       "│ 1          ┆ 2       ┆ 1       ┆ Racine     ┆ … ┆ racine     ┆ null      ┆ null      ┆ null      │\n",
       "│ …          ┆ …       ┆ …       ┆ …          ┆ … ┆ …          ┆ …         ┆ …         ┆ …         │\n",
       "│ 1179       ┆ 26      ┆ 1       ┆ Mobilier   ┆ … ┆ mobilier-c ┆ null      ┆ null      ┆ null      │\n",
       "│            ┆         ┆         ┆ Camping    ┆   ┆ amping     ┆           ┆           ┆           │\n",
       "│ 1179       ┆ 27      ┆ 1       ┆ Mobilier   ┆ … ┆ mobilier-c ┆ null      ┆ null      ┆ null      │\n",
       "│            ┆         ┆         ┆ Camping    ┆   ┆ amping     ┆           ┆           ┆           │\n",
       "│ 1179       ┆ 28      ┆ 1       ┆ Mobilier   ┆ … ┆ mobilier-c ┆ null      ┆ null      ┆ null      │\n",
       "│            ┆         ┆         ┆ Camping    ┆   ┆ amping     ┆           ┆           ┆           │\n",
       "│ 1179       ┆ 29      ┆ 1       ┆ Mobilier   ┆ … ┆ mobilier-c ┆ null      ┆ null      ┆ null      │\n",
       "│            ┆         ┆         ┆ Camping    ┆   ┆ amping     ┆           ┆           ┆           │\n",
       "│ 1179       ┆ 30      ┆ 1       ┆ Mobilier   ┆ … ┆ mobilier-c ┆ null      ┆ null      ┆ null      │\n",
       "│            ┆         ┆         ┆ Camping    ┆   ┆ amping     ┆           ┆           ┆           │\n",
       "└────────────┴─────────┴─────────┴────────────┴───┴────────────┴───────────┴───────────┴───────────┘"
      ]
     },
     "execution_count": 3,
     "metadata": {},
     "output_type": "execute_result"
    }
   ],
   "source": [
    "ps_category_lang = pl.read_csv(\"data/ps_category_lang.csv\")\n",
    "ps_category_lang"
   ]
  },
  {
   "cell_type": "code",
   "execution_count": 4,
   "id": "a3d7babc",
   "metadata": {},
   "outputs": [
    {
     "data": {
      "text/html": [
       "<div><style>\n",
       ".dataframe > thead > tr,\n",
       ".dataframe > tbody > tr {\n",
       "  text-align: right;\n",
       "  white-space: pre-wrap;\n",
       "}\n",
       "</style>\n",
       "<small>shape: (9, 19)</small><table border=\"1\" class=\"dataframe\"><thead><tr><th>id_category</th><th>id_parent</th><th>id_shop_default</th><th>level_depth</th><th>nleft</th><th>nright</th><th>active</th><th>date_add</th><th>date_upd</th><th>position</th><th>is_root_category</th><th>id_shop</th><th>id_lang</th><th>name</th><th>description</th><th>link_rewrite</th><th>meta_title</th><th>meta_keywords</th><th>meta_description</th></tr><tr><td>i64</td><td>i64</td><td>i64</td><td>i64</td><td>i64</td><td>i64</td><td>i64</td><td>str</td><td>str</td><td>i64</td><td>i64</td><td>i64</td><td>i64</td><td>str</td><td>str</td><td>str</td><td>str</td><td>str</td><td>str</td></tr></thead><tbody><tr><td>1062</td><td>2</td><td>1</td><td>2</td><td>1181</td><td>1202</td><td>1</td><td>&quot;2023-11-23 16:05:00&quot;</td><td>&quot;2023-11-23 16:05:00&quot;</td><td>0</td><td>0</td><td>1</td><td>1</td><td>&quot;Couteaux &amp; outils&quot;</td><td>&quot;Découvrez notre sélection d&#x27;ai…</td><td>&quot;couteaux-outils&quot;</td><td>null</td><td>null</td><td>null</td></tr><tr><td>1063</td><td>2</td><td>1</td><td>2</td><td>1203</td><td>1212</td><td>1</td><td>&quot;2023-11-23 16:08:24&quot;</td><td>&quot;2023-11-23 16:08:24&quot;</td><td>0</td><td>0</td><td>1</td><td>1</td><td>&quot;Cuisine camping&quot;</td><td>&quot;Préparez des repas délicieux e…</td><td>&quot;cuisine-camping&quot;</td><td>null</td><td>null</td><td>null</td></tr><tr><td>1064</td><td>2</td><td>1</td><td>2</td><td>1213</td><td>1226</td><td>1</td><td>&quot;2023-11-23 16:08:40&quot;</td><td>&quot;2023-11-23 16:08:40&quot;</td><td>0</td><td>0</td><td>1</td><td>1</td><td>&quot;Lampes &amp; lanternes&quot;</td><td>&quot;Éclairez votre chemin dans l&#x27;o…</td><td>&quot;lampes-lanternes&quot;</td><td>null</td><td>null</td><td>null</td></tr><tr><td>1065</td><td>2</td><td>1</td><td>2</td><td>1125</td><td>1140</td><td>1</td><td>&quot;2023-11-23 16:08:59&quot;</td><td>&quot;2023-11-23 16:08:59&quot;</td><td>0</td><td>0</td><td>1</td><td>1</td><td>&quot;Batteries &amp; panneaux&quot;</td><td>&quot;Restez connecté même en plein …</td><td>&quot;batteries-panneaux&quot;</td><td>null</td><td>null</td><td>null</td></tr><tr><td>1066</td><td>2</td><td>1</td><td>2</td><td>1141</td><td>1154</td><td>1</td><td>&quot;2023-11-23 16:09:13&quot;</td><td>&quot;2023-11-23 16:09:13&quot;</td><td>0</td><td>0</td><td>1</td><td>1</td><td>&quot;Jardin&quot;</td><td>&quot;Prenez soin de votre espace ex…</td><td>&quot;jardin&quot;</td><td>null</td><td>null</td><td>null</td></tr><tr><td>1067</td><td>2</td><td>1</td><td>2</td><td>1155</td><td>1166</td><td>1</td><td>&quot;2023-11-23 16:09:50&quot;</td><td>&quot;2023-11-23 16:09:50&quot;</td><td>0</td><td>0</td><td>1</td><td>1</td><td>&quot;Jumelles &amp; optiques&quot;</td><td>&quot;Explorez la nature avec notre …</td><td>&quot;jumelles-optiques&quot;</td><td>null</td><td>null</td><td>null</td></tr><tr><td>1068</td><td>2</td><td>1</td><td>2</td><td>1167</td><td>1180</td><td>1</td><td>&quot;2023-11-23 16:10:10&quot;</td><td>&quot;2023-11-23 16:10:10&quot;</td><td>0</td><td>0</td><td>1</td><td>1</td><td>&quot;Chasse&quot;</td><td>&quot;Préparez-vous pour une expérie…</td><td>&quot;chasse&quot;</td><td>null</td><td>null</td><td>null</td></tr><tr><td>1124</td><td>2</td><td>1</td><td>2</td><td>1227</td><td>1236</td><td>1</td><td>&quot;2023-12-05 11:56:33&quot;</td><td>&quot;2023-12-05 11:56:33&quot;</td><td>0</td><td>0</td><td>1</td><td>1</td><td>&quot;Extérieur &amp; Équipement&quot;</td><td>null</td><td>&quot;exterieur-equipement&quot;</td><td>null</td><td>null</td><td>null</td></tr><tr><td>1179</td><td>2</td><td>1</td><td>2</td><td>1237</td><td>1238</td><td>1</td><td>&quot;2024-12-23 14:18:53&quot;</td><td>&quot;2024-12-23 14:22:07&quot;</td><td>2</td><td>0</td><td>1</td><td>1</td><td>&quot;Mobilier Camping&quot;</td><td>null</td><td>&quot;mobilier-camping&quot;</td><td>null</td><td>null</td><td>null</td></tr></tbody></table></div>"
      ],
      "text/plain": [
       "shape: (9, 19)\n",
       "┌───────────┬───────────┬───────────┬───────────┬───┬───────────┬───────────┬───────────┬──────────┐\n",
       "│ id_catego ┆ id_parent ┆ id_shop_d ┆ level_dep ┆ … ┆ link_rewr ┆ meta_titl ┆ meta_keyw ┆ meta_des │\n",
       "│ ry        ┆ ---       ┆ efault    ┆ th        ┆   ┆ ite       ┆ e         ┆ ords      ┆ cription │\n",
       "│ ---       ┆ i64       ┆ ---       ┆ ---       ┆   ┆ ---       ┆ ---       ┆ ---       ┆ ---      │\n",
       "│ i64       ┆           ┆ i64       ┆ i64       ┆   ┆ str       ┆ str       ┆ str       ┆ str      │\n",
       "╞═══════════╪═══════════╪═══════════╪═══════════╪═══╪═══════════╪═══════════╪═══════════╪══════════╡\n",
       "│ 1062      ┆ 2         ┆ 1         ┆ 2         ┆ … ┆ couteaux- ┆ null      ┆ null      ┆ null     │\n",
       "│           ┆           ┆           ┆           ┆   ┆ outils    ┆           ┆           ┆          │\n",
       "│ 1063      ┆ 2         ┆ 1         ┆ 2         ┆ … ┆ cuisine-c ┆ null      ┆ null      ┆ null     │\n",
       "│           ┆           ┆           ┆           ┆   ┆ amping    ┆           ┆           ┆          │\n",
       "│ 1064      ┆ 2         ┆ 1         ┆ 2         ┆ … ┆ lampes-la ┆ null      ┆ null      ┆ null     │\n",
       "│           ┆           ┆           ┆           ┆   ┆ nternes   ┆           ┆           ┆          │\n",
       "│ 1065      ┆ 2         ┆ 1         ┆ 2         ┆ … ┆ batteries ┆ null      ┆ null      ┆ null     │\n",
       "│           ┆           ┆           ┆           ┆   ┆ -panneaux ┆           ┆           ┆          │\n",
       "│ 1066      ┆ 2         ┆ 1         ┆ 2         ┆ … ┆ jardin    ┆ null      ┆ null      ┆ null     │\n",
       "│ 1067      ┆ 2         ┆ 1         ┆ 2         ┆ … ┆ jumelles- ┆ null      ┆ null      ┆ null     │\n",
       "│           ┆           ┆           ┆           ┆   ┆ optiques  ┆           ┆           ┆          │\n",
       "│ 1068      ┆ 2         ┆ 1         ┆ 2         ┆ … ┆ chasse    ┆ null      ┆ null      ┆ null     │\n",
       "│ 1124      ┆ 2         ┆ 1         ┆ 2         ┆ … ┆ exterieur ┆ null      ┆ null      ┆ null     │\n",
       "│           ┆           ┆           ┆           ┆   ┆ -equipeme ┆           ┆           ┆          │\n",
       "│           ┆           ┆           ┆           ┆   ┆ nt        ┆           ┆           ┆          │\n",
       "│ 1179      ┆ 2         ┆ 1         ┆ 2         ┆ … ┆ mobilier- ┆ null      ┆ null      ┆ null     │\n",
       "│           ┆           ┆           ┆           ┆   ┆ camping   ┆           ┆           ┆          │\n",
       "└───────────┴───────────┴───────────┴───────────┴───┴───────────┴───────────┴───────────┴──────────┘"
      ]
     },
     "execution_count": 4,
     "metadata": {},
     "output_type": "execute_result"
    }
   ],
   "source": [
    "categories = ps_category.join(\n",
    "    ps_category_lang,\n",
    "    left_on=\"id_category\",\n",
    "    right_on=\"id_category\",\n",
    "    how=\"left\",\n",
    ").filter(pl.col(\"id_lang\") == 1 , pl.col(\"id_shop\") == 1, pl.col(\"id_parent\") == 2)\n",
    "\n",
    "categories"
   ]
  },
  {
   "cell_type": "code",
   "execution_count": 5,
   "id": "ff3e8ed7",
   "metadata": {},
   "outputs": [
    {
     "data": {
      "text/html": [
       "<div><style>\n",
       ".dataframe > thead > tr,\n",
       ".dataframe > tbody > tr {\n",
       "  text-align: right;\n",
       "  white-space: pre-wrap;\n",
       "}\n",
       "</style>\n",
       "<small>shape: (26_085, 19)</small><table border=\"1\" class=\"dataframe\"><thead><tr><th>id_category</th><th>id_parent</th><th>id_shop_default</th><th>level_depth</th><th>nleft</th><th>nright</th><th>active</th><th>date_add</th><th>date_upd</th><th>position</th><th>is_root_category</th><th>id_shop</th><th>id_lang</th><th>name</th><th>description</th><th>link_rewrite</th><th>meta_title</th><th>meta_keywords</th><th>meta_description</th></tr><tr><td>i64</td><td>i64</td><td>i64</td><td>i64</td><td>i64</td><td>i64</td><td>i64</td><td>str</td><td>str</td><td>i64</td><td>i64</td><td>i64</td><td>i64</td><td>str</td><td>str</td><td>str</td><td>str</td><td>str</td><td>str</td></tr></thead><tbody><tr><td>1</td><td>0</td><td>1</td><td>0</td><td>1</td><td>1240</td><td>1</td><td>&quot;2017-08-10 17:53:09&quot;</td><td>&quot;2017-08-10 17:53:09&quot;</td><td>0</td><td>0</td><td>1</td><td>1</td><td>&quot;Racine&quot;</td><td>null</td><td>&quot;racine&quot;</td><td>null</td><td>null</td><td>null</td></tr><tr><td>1</td><td>0</td><td>1</td><td>0</td><td>1</td><td>1240</td><td>1</td><td>&quot;2017-08-10 17:53:09&quot;</td><td>&quot;2017-08-10 17:53:09&quot;</td><td>0</td><td>0</td><td>1</td><td>5</td><td>&quot;Raíz&quot;</td><td>null</td><td>&quot;racine&quot;</td><td>null</td><td>null</td><td>null</td></tr><tr><td>1</td><td>0</td><td>1</td><td>0</td><td>1</td><td>1240</td><td>1</td><td>&quot;2017-08-10 17:53:09&quot;</td><td>&quot;2017-08-10 17:53:09&quot;</td><td>0</td><td>0</td><td>1</td><td>7</td><td>&quot;Raíz&quot;</td><td>null</td><td>&quot;racine&quot;</td><td>null</td><td>null</td><td>null</td></tr><tr><td>1</td><td>0</td><td>1</td><td>0</td><td>1</td><td>1240</td><td>1</td><td>&quot;2017-08-10 17:53:09&quot;</td><td>&quot;2017-08-10 17:53:09&quot;</td><td>0</td><td>0</td><td>1</td><td>8</td><td>&quot;Stammverzeichnis&quot;</td><td>null</td><td>&quot;racine&quot;</td><td>null</td><td>null</td><td>null</td></tr><tr><td>1</td><td>0</td><td>1</td><td>0</td><td>1</td><td>1240</td><td>1</td><td>&quot;2017-08-10 17:53:09&quot;</td><td>&quot;2017-08-10 17:53:09&quot;</td><td>0</td><td>0</td><td>2</td><td>1</td><td>&quot;Racine&quot;</td><td>null</td><td>&quot;racine&quot;</td><td>null</td><td>null</td><td>null</td></tr><tr><td>&hellip;</td><td>&hellip;</td><td>&hellip;</td><td>&hellip;</td><td>&hellip;</td><td>&hellip;</td><td>&hellip;</td><td>&hellip;</td><td>&hellip;</td><td>&hellip;</td><td>&hellip;</td><td>&hellip;</td><td>&hellip;</td><td>&hellip;</td><td>&hellip;</td><td>&hellip;</td><td>&hellip;</td><td>&hellip;</td><td>&hellip;</td></tr><tr><td>1179</td><td>2</td><td>1</td><td>2</td><td>1237</td><td>1238</td><td>1</td><td>&quot;2024-12-23 14:18:53&quot;</td><td>&quot;2024-12-23 14:22:07&quot;</td><td>2</td><td>0</td><td>26</td><td>1</td><td>&quot;Mobilier Camping&quot;</td><td>null</td><td>&quot;mobilier-camping&quot;</td><td>null</td><td>null</td><td>null</td></tr><tr><td>1179</td><td>2</td><td>1</td><td>2</td><td>1237</td><td>1238</td><td>1</td><td>&quot;2024-12-23 14:18:53&quot;</td><td>&quot;2024-12-23 14:22:07&quot;</td><td>2</td><td>0</td><td>27</td><td>1</td><td>&quot;Mobilier Camping&quot;</td><td>null</td><td>&quot;mobilier-camping&quot;</td><td>null</td><td>null</td><td>null</td></tr><tr><td>1179</td><td>2</td><td>1</td><td>2</td><td>1237</td><td>1238</td><td>1</td><td>&quot;2024-12-23 14:18:53&quot;</td><td>&quot;2024-12-23 14:22:07&quot;</td><td>2</td><td>0</td><td>28</td><td>1</td><td>&quot;Mobilier Camping&quot;</td><td>null</td><td>&quot;mobilier-camping&quot;</td><td>null</td><td>null</td><td>null</td></tr><tr><td>1179</td><td>2</td><td>1</td><td>2</td><td>1237</td><td>1238</td><td>1</td><td>&quot;2024-12-23 14:18:53&quot;</td><td>&quot;2024-12-23 14:22:07&quot;</td><td>2</td><td>0</td><td>29</td><td>1</td><td>&quot;Mobilier Camping&quot;</td><td>null</td><td>&quot;mobilier-camping&quot;</td><td>null</td><td>null</td><td>null</td></tr><tr><td>1179</td><td>2</td><td>1</td><td>2</td><td>1237</td><td>1238</td><td>1</td><td>&quot;2024-12-23 14:18:53&quot;</td><td>&quot;2024-12-23 14:22:07&quot;</td><td>2</td><td>0</td><td>30</td><td>1</td><td>&quot;Mobilier Camping&quot;</td><td>null</td><td>&quot;mobilier-camping&quot;</td><td>null</td><td>null</td><td>null</td></tr></tbody></table></div>"
      ],
      "text/plain": [
       "shape: (26_085, 19)\n",
       "┌───────────┬───────────┬───────────┬───────────┬───┬───────────┬───────────┬───────────┬──────────┐\n",
       "│ id_catego ┆ id_parent ┆ id_shop_d ┆ level_dep ┆ … ┆ link_rewr ┆ meta_titl ┆ meta_keyw ┆ meta_des │\n",
       "│ ry        ┆ ---       ┆ efault    ┆ th        ┆   ┆ ite       ┆ e         ┆ ords      ┆ cription │\n",
       "│ ---       ┆ i64       ┆ ---       ┆ ---       ┆   ┆ ---       ┆ ---       ┆ ---       ┆ ---      │\n",
       "│ i64       ┆           ┆ i64       ┆ i64       ┆   ┆ str       ┆ str       ┆ str       ┆ str      │\n",
       "╞═══════════╪═══════════╪═══════════╪═══════════╪═══╪═══════════╪═══════════╪═══════════╪══════════╡\n",
       "│ 1         ┆ 0         ┆ 1         ┆ 0         ┆ … ┆ racine    ┆ null      ┆ null      ┆ null     │\n",
       "│ 1         ┆ 0         ┆ 1         ┆ 0         ┆ … ┆ racine    ┆ null      ┆ null      ┆ null     │\n",
       "│ 1         ┆ 0         ┆ 1         ┆ 0         ┆ … ┆ racine    ┆ null      ┆ null      ┆ null     │\n",
       "│ 1         ┆ 0         ┆ 1         ┆ 0         ┆ … ┆ racine    ┆ null      ┆ null      ┆ null     │\n",
       "│ 1         ┆ 0         ┆ 1         ┆ 0         ┆ … ┆ racine    ┆ null      ┆ null      ┆ null     │\n",
       "│ …         ┆ …         ┆ …         ┆ …         ┆ … ┆ …         ┆ …         ┆ …         ┆ …        │\n",
       "│ 1179      ┆ 2         ┆ 1         ┆ 2         ┆ … ┆ mobilier- ┆ null      ┆ null      ┆ null     │\n",
       "│           ┆           ┆           ┆           ┆   ┆ camping   ┆           ┆           ┆          │\n",
       "│ 1179      ┆ 2         ┆ 1         ┆ 2         ┆ … ┆ mobilier- ┆ null      ┆ null      ┆ null     │\n",
       "│           ┆           ┆           ┆           ┆   ┆ camping   ┆           ┆           ┆          │\n",
       "│ 1179      ┆ 2         ┆ 1         ┆ 2         ┆ … ┆ mobilier- ┆ null      ┆ null      ┆ null     │\n",
       "│           ┆           ┆           ┆           ┆   ┆ camping   ┆           ┆           ┆          │\n",
       "│ 1179      ┆ 2         ┆ 1         ┆ 2         ┆ … ┆ mobilier- ┆ null      ┆ null      ┆ null     │\n",
       "│           ┆           ┆           ┆           ┆   ┆ camping   ┆           ┆           ┆          │\n",
       "│ 1179      ┆ 2         ┆ 1         ┆ 2         ┆ … ┆ mobilier- ┆ null      ┆ null      ┆ null     │\n",
       "│           ┆           ┆           ┆           ┆   ┆ camping   ┆           ┆           ┆          │\n",
       "└───────────┴───────────┴───────────┴───────────┴───┴───────────┴───────────┴───────────┴──────────┘"
      ]
     },
     "execution_count": 5,
     "metadata": {},
     "output_type": "execute_result"
    }
   ],
   "source": [
    "categories = ps_category.join(\n",
    "        ps_category_lang,\n",
    "        left_on=\"id_category\",\n",
    "        right_on=\"id_category\",\n",
    "        how=\"left\",\n",
    "    )\n",
    "categories"
   ]
  }
 ],
 "metadata": {
  "kernelspec": {
   "display_name": "venv",
   "language": "python",
   "name": "python3"
  },
  "language_info": {
   "codemirror_mode": {
    "name": "ipython",
    "version": 3
   },
   "file_extension": ".py",
   "mimetype": "text/x-python",
   "name": "python",
   "nbconvert_exporter": "python",
   "pygments_lexer": "ipython3",
   "version": "3.12.3"
  }
 },
 "nbformat": 4,
 "nbformat_minor": 5
}
